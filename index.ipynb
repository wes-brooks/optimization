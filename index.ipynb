{
  "cells": [
    {
      "cell_type": "raw",
      "metadata": {},
      "source": [
        "---\n",
        "title: \"Overview\"\n",
        "format:\n",
        "  html:\n",
        "    theme: cosmo\n",
        "    \n",
        "webr:\n",
        "  packages: ['ggplot2', 'dplyr']\n",
        "---"
      ],
      "id": "3c107bc5"
    },
    {
      "cell_type": "markdown",
      "metadata": {},
      "source": [
        "{{< include _webr-include.qmd >}}\n",
        "\n",
        "# URL for the presentation is wes-brooks.github.io/optimization {.unnumbered}\n",
        "\n",
        "\n",
        "# Overview {.unnumbered}\n",
        "\n",
        "Optimization here is understood to mean *function optimization*, which is finding the parameters that minimize or maximize a function. This is how parameters are estimated - for instance, you might observe the motion of some falling objects and use that data to estimate the constant of gravitational acceleration. In this example, you'd start with an equation derived from theory, like:\n",
        "$$ y(t) = \\frac{gt^2}{2} $$\n",
        "plus some data (observations of $y$ and $t$), then use optimization to find the value of $g$ that fits the data best. \n",
        "\n",
        "What does it mean to \"fit the data best\"? In this case, you'd probably use a measure of error that can handle errors to both positive and negative directions, like squared error ($\\sum_{i=1}^n(y_i - \\frac{gt_i^2}{2})^2$) or absolute error ($\\sum_{i=1}^n|y_i - \\frac{gt_i^2}{2}|$). Then you would minimize the error. This minimization (or maximization) is what optimization is all about.\n",
        "\n",
        "## `optim()` example\n",
        "Your favorite scripting/analysis software surely comes with an optimizer built in. Here, we'll use R's `optim()` to estimate `g`, the acceleration due to gravity. I dropped ten balls from a height of five meters and measured how long it took for them to hit the ground. Using that data, I will say that the loss is the absolute difference between the five meters of actual height and the distance that the balls should have fallen for any particular estimate of `g` (which is $(g \\times t^2) / 2$).\n",
        "\n",
        "```{webr intro}\n",
        "# input the data\n",
        "time = c(0.93, 1.13, 1.01, 0.81, 0.88, 0.97, 1.04, 1.08, 0.98, 1.16)\n",
        "\n",
        "# define the loss function\n",
        "err = function(g, t) {\n",
        "  abs(5 - g * t^2 / 2) |>\n",
        "    sum()\n",
        "}\n",
        "\n",
        "# find the parameter that minimizes loss\n",
        "optim(0, fn=err, t=time)\n",
        "```\n",
        "\n",
        "Now, we'll look at how `optim()` does that."
      ],
      "id": "d42f7934"
    }
  ],
  "metadata": {
    "kernelspec": {
      "name": "python3",
      "language": "python",
      "display_name": "Python 3 (ipykernel)"
    }
  },
  "nbformat": 4,
  "nbformat_minor": 5
}